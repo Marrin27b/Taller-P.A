{
 "cells": [
  {
   "cell_type": "code",
   "execution_count": 12,
   "metadata": {},
   "outputs": [
    {
     "name": "stdout",
     "output_type": "stream",
     "text": [
      "El número lo pasamos a Entero y queda: 0\n"
     ]
    }
   ],
   "source": [
    "edad = input(\"Ingrese su edad: \")\n",
    "\n",
    "print(f'El número lo pasamos a Entero y queda: {int(edad)}')\n"
   ]
  },
  {
   "cell_type": "code",
   "execution_count": null,
   "metadata": {},
   "outputs": [],
   "source": []
  },
  {
   "cell_type": "code",
   "execution_count": null,
   "metadata": {},
   "outputs": [
    {
     "name": "stdout",
     "output_type": "stream",
     "text": [
      "Número de estatura en decimales y queda:  1.75\n"
     ]
    }
   ],
   "source": [
    "Estatura = input(\"ingrese su estatura\")\n",
    "\n",
    "print(f\"Número de estatura en decimales y queda:\" [float(Estatura)] )"
   ]
  },
  {
   "cell_type": "code",
   "execution_count": 11,
   "metadata": {},
   "outputs": [
    {
     "name": "stdout",
     "output_type": "stream",
     "text": [
      "Números donde 1 es verdadero y 0 o vacio es falso: False\n"
     ]
    }
   ],
   "source": [
    "Num = int(input (\"¿El número 10 es mayor que 5?\"))\n",
    "\n",
    "print(f\"Números donde 1 es verdadero y 0 o vacio es falso: {bool (Num)}\")"
   ]
  },
  {
   "cell_type": "code",
   "execution_count": null,
   "metadata": {},
   "outputs": [],
   "source": []
  }
 ],
 "metadata": {
  "kernelspec": {
   "display_name": "Python 3",
   "language": "python",
   "name": "python3"
  },
  "language_info": {
   "codemirror_mode": {
    "name": "ipython",
    "version": 3
   },
   "file_extension": ".py",
   "mimetype": "text/x-python",
   "name": "python",
   "nbconvert_exporter": "python",
   "pygments_lexer": "ipython3",
   "version": "3.9.6"
  }
 },
 "nbformat": 4,
 "nbformat_minor": 2
}
